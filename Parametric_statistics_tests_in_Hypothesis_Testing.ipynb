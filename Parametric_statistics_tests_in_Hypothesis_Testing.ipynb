{
  "nbformat": 4,
  "nbformat_minor": 0,
  "metadata": {
    "colab": {
      "provenance": [],
      "authorship_tag": "ABX9TyPCMuHb4EKx+Xkw5lHb5OCJ",
      "include_colab_link": true
    },
    "kernelspec": {
      "name": "python3",
      "display_name": "Python 3"
    },
    "language_info": {
      "name": "python"
    }
  },
  "cells": [
    {
      "cell_type": "markdown",
      "metadata": {
        "id": "view-in-github",
        "colab_type": "text"
      },
      "source": [
        "<a href=\"https://colab.research.google.com/github/karinemaciel/Data-Analytics-Bootcamp-/blob/main/Parametric_statistics_tests_in_Hypothesis_Testing.ipynb\" target=\"_parent\"><img src=\"https://colab.research.google.com/assets/colab-badge.svg\" alt=\"Open In Colab\"/></a>"
      ]
    },
    {
      "cell_type": "markdown",
      "source": [
        "**In this practical exercise, we will explore the application of Analysis of Variance (ANOVA) in the context of pharmaceutical research.**\n",
        "ANOVA is a statistical method used to compare means across three or more groups and assess whether there are any significant differences among them. This exercise specifically focuses on a hypothetical scenario where a pharmaceutical company seeks to evaluate the effectiveness of three different drug formulations in reducing blood pressure.\n",
        "The primary objective is to determine if there is a statistically significant difference in the mean effectiveness of these drug formulations. To achieve this, we will generate random data representing the effectiveness measurements for each drug formulation and then perform a one-way ANOVA analysis."
      ],
      "metadata": {
        "id": "ktkMJL34uIwd"
      }
    },
    {
      "cell_type": "code",
      "execution_count": 2,
      "metadata": {
        "id": "ldsTcJxMmNLl"
      },
      "outputs": [],
      "source": [
        "# Importing libraries\n",
        "import pandas as pd\n",
        "import numpy as np\n",
        "from scipy.stats import anderson, f_oneway\n",
        "import seaborn as sns\n",
        "import matplotlib.pyplot as plt"
      ]
    },
    {
      "cell_type": "code",
      "source": [
        "# Set random seed for reproducibility\n",
        "np.random.seed(42)"
      ],
      "metadata": {
        "id": "VYoPguojxYvo"
      },
      "execution_count": 3,
      "outputs": []
    },
    {
      "cell_type": "code",
      "source": [
        "# Generate random data for three drug formulations (A, B, C)\n",
        "# Assuming mean effectiveness of 100, 105, and 110 respectively\n",
        "# and standard deviation of 5 for all formulations\n",
        "data_a = np.random.normal(loc=100, scale=5, size=30)\n",
        "data_b = np.random.normal(loc=105, scale=5, size=30)\n",
        "data_c = np.random.normal(loc=110, scale=5, size=30)"
      ],
      "metadata": {
        "colab": {
          "base_uri": "https://localhost:8080/"
        },
        "id": "6ufMXlSCxs4p",
        "outputId": "74838586-6741-41cb-8544-7814bed81655"
      },
          "execution_count": 6
        }
      ]
    },
    {
      "cell_type": "code",
      "source": [
        "# Combine the data into a single DataFrame\n",
        "df = pd.DataFrame({\n",
        "    'Drug_Formulation': ['A'] * 30 + ['B'] * 30 + ['C'] * 30,\n",
        "    'Effectiveness': np.concatenate([data_a, data_b, data_c])\n",
        "})\n",
        "\n",
        "df.head()\n"
      ],
      "metadata": {
        "colab": {
          "base_uri": "https://localhost:8080/",
          "height": 206
        },
        "id": "G4MtEmAUx2u2",
        "outputId": "7a2891ee-9621-42f0-90b0-22a57df2721d"
      },
      "execution_count": 8,
      "outputs": [
        {
          "output_type": "execute_result",
          "data": {
            "text/plain": [
              "  Drug_Formulation  Effectiveness\n",
              "0                A     103.128337\n",
              "1                A      95.714212\n",
              "2                A      94.645538\n",
              "3                A     102.412362\n",
              "4                A      98.882686"
            ],
            "text/html": [
              "\n",
              "  <div id=\"df-ac889b60-522e-4954-892e-6b5b17a88e0e\" class=\"colab-df-container\">\n",
              "    <div>\n",
              "<style scoped>\n",
              "    .dataframe tbody tr th:only-of-type {\n",
              "        vertical-align: middle;\n",
              "    }\n",
              "\n",
              "    .dataframe tbody tr th {\n",
              "        vertical-align: top;\n",
              "    }\n",
              "\n",
              "    .dataframe thead th {\n",
              "        text-align: right;\n",
              "    }\n",
              "</style>\n",
              "<table border=\"1\" class=\"dataframe\">\n",
              "  <thead>\n",
              "    <tr style=\"text-align: right;\">\n",
              "      <th></th>\n",
              "      <th>Drug_Formulation</th>\n",
              "      <th>Effectiveness</th>\n",
              "    </tr>\n",
              "  </thead>\n",
              "  <tbody>\n",
              "    <tr>\n",
              "      <th>0</th>\n",
              "      <td>A</td>\n",
              "      <td>103.128337</td>\n",
              "    </tr>\n",
              "    <tr>\n",
              "      <th>1</th>\n",
              "      <td>A</td>\n",
              "      <td>95.714212</td>\n",
              "    </tr>\n",
              "    <tr>\n",
              "      <th>2</th>\n",
              "      <td>A</td>\n",
              "      <td>94.645538</td>\n",
              "    </tr>\n",
              "    <tr>\n",
              "      <th>3</th>\n",
              "      <td>A</td>\n",
              "      <td>102.412362</td>\n",
              "    </tr>\n",
              "    <tr>\n",
              "      <th>4</th>\n",
              "      <td>A</td>\n",
              "      <td>98.882686</td>\n",
              "    </tr>\n",
              "  </tbody>\n",
              "</table>\n",
              "</div>\n",
              "    <div class=\"colab-df-buttons\">\n",
              "\n",
              "  <div class=\"colab-df-container\">\n",
              "    <button class=\"colab-df-convert\" onclick=\"convertToInteractive('df-ac889b60-522e-4954-892e-6b5b17a88e0e')\"\n",
              "            title=\"Convert this dataframe to an interactive table.\"\n",
              "            style=\"display:none;\">\n",
              "\n",
              "  <svg xmlns=\"http://www.w3.org/2000/svg\" height=\"24px\" viewBox=\"0 -960 960 960\">\n",
              "    <path d=\"M120-120v-720h720v720H120Zm60-500h600v-160H180v160Zm220 220h160v-160H400v160Zm0 220h160v-160H400v160ZM180-400h160v-160H180v160Zm440 0h160v-160H620v160ZM180-180h160v-160H180v160Zm440 0h160v-160H620v160Z\"/>\n",
              "  </svg>\n",
              "    </button>\n",
              "\n",
              "  <style>\n",
              "    .colab-df-container {\n",
              "      display:flex;\n",
              "      gap: 12px;\n",
              "    }\n",
              "\n",
              "    .colab-df-convert {\n",
              "      background-color: #E8F0FE;\n",
              "      border: none;\n",
              "      border-radius: 50%;\n",
              "      cursor: pointer;\n",
              "      display: none;\n",
              "      fill: #1967D2;\n",
              "      height: 32px;\n",
              "      padding: 0 0 0 0;\n",
              "      width: 32px;\n",
              "    }\n",
              "\n",
              "    .colab-df-convert:hover {\n",
              "      background-color: #E2EBFA;\n",
              "      box-shadow: 0px 1px 2px rgba(60, 64, 67, 0.3), 0px 1px 3px 1px rgba(60, 64, 67, 0.15);\n",
              "      fill: #174EA6;\n",
              "    }\n",
              "\n",
              "    .colab-df-buttons div {\n",
              "      margin-bottom: 4px;\n",
              "    }\n",
              "\n",
              "    [theme=dark] .colab-df-convert {\n",
              "      background-color: #3B4455;\n",
              "      fill: #D2E3FC;\n",
              "    }\n",
              "\n",
              "    [theme=dark] .colab-df-convert:hover {\n",
              "      background-color: #434B5C;\n",
              "      box-shadow: 0px 1px 3px 1px rgba(0, 0, 0, 0.15);\n",
              "      filter: drop-shadow(0px 1px 2px rgba(0, 0, 0, 0.3));\n",
              "      fill: #FFFFFF;\n",
              "    }\n",
              "  </style>\n",
              "\n",
              "    <script>\n",
              "      const buttonEl =\n",
              "        document.querySelector('#df-ac889b60-522e-4954-892e-6b5b17a88e0e button.colab-df-convert');\n",
              "      buttonEl.style.display =\n",
              "        google.colab.kernel.accessAllowed ? 'block' : 'none';\n",
              "\n",
              "      async function convertToInteractive(key) {\n",
              "        const element = document.querySelector('#df-ac889b60-522e-4954-892e-6b5b17a88e0e');\n",
              "        const dataTable =\n",
              "          await google.colab.kernel.invokeFunction('convertToInteractive',\n",
              "                                                    [key], {});\n",
              "        if (!dataTable) return;\n",
              "\n",
              "        const docLinkHtml = 'Like what you see? Visit the ' +\n",
              "          '<a target=\"_blank\" href=https://colab.research.google.com/notebooks/data_table.ipynb>data table notebook</a>'\n",
              "          + ' to learn more about interactive tables.';\n",
              "        element.innerHTML = '';\n",
              "        dataTable['output_type'] = 'display_data';\n",
              "        await google.colab.output.renderOutput(dataTable, element);\n",
              "        const docLink = document.createElement('div');\n",
              "        docLink.innerHTML = docLinkHtml;\n",
              "        element.appendChild(docLink);\n",
              "      }\n",
              "    </script>\n",
              "  </div>\n",
              "\n",
              "\n",
              "<div id=\"df-f468dd2b-9ea3-4e06-9ae2-7b151578dbbf\">\n",
              "  <button class=\"colab-df-quickchart\" onclick=\"quickchart('df-f468dd2b-9ea3-4e06-9ae2-7b151578dbbf')\"\n",
              "            title=\"Suggest charts\"\n",
              "            style=\"display:none;\">\n",
              "\n",
              "<svg xmlns=\"http://www.w3.org/2000/svg\" height=\"24px\"viewBox=\"0 0 24 24\"\n",
              "     width=\"24px\">\n",
              "    <g>\n",
              "        <path d=\"M19 3H5c-1.1 0-2 .9-2 2v14c0 1.1.9 2 2 2h14c1.1 0 2-.9 2-2V5c0-1.1-.9-2-2-2zM9 17H7v-7h2v7zm4 0h-2V7h2v10zm4 0h-2v-4h2v4z\"/>\n",
              "    </g>\n",
              "</svg>\n",
              "  </button>\n",
              "\n",
              "<style>\n",
              "  .colab-df-quickchart {\n",
              "      --bg-color: #E8F0FE;\n",
              "      --fill-color: #1967D2;\n",
              "      --hover-bg-color: #E2EBFA;\n",
              "      --hover-fill-color: #174EA6;\n",
              "      --disabled-fill-color: #AAA;\n",
              "      --disabled-bg-color: #DDD;\n",
              "  }\n",
              "\n",
              "  [theme=dark] .colab-df-quickchart {\n",
              "      --bg-color: #3B4455;\n",
              "      --fill-color: #D2E3FC;\n",
              "      --hover-bg-color: #434B5C;\n",
              "      --hover-fill-color: #FFFFFF;\n",
              "      --disabled-bg-color: #3B4455;\n",
              "      --disabled-fill-color: #666;\n",
              "  }\n",
              "\n",
              "  .colab-df-quickchart {\n",
              "    background-color: var(--bg-color);\n",
              "    border: none;\n",
              "    border-radius: 50%;\n",
              "    cursor: pointer;\n",
              "    display: none;\n",
              "    fill: var(--fill-color);\n",
              "    height: 32px;\n",
              "    padding: 0;\n",
              "    width: 32px;\n",
              "  }\n",
              "\n",
              "  .colab-df-quickchart:hover {\n",
              "    background-color: var(--hover-bg-color);\n",
              "    box-shadow: 0 1px 2px rgba(60, 64, 67, 0.3), 0 1px 3px 1px rgba(60, 64, 67, 0.15);\n",
              "    fill: var(--button-hover-fill-color);\n",
              "  }\n",
              "\n",
              "  .colab-df-quickchart-complete:disabled,\n",
              "  .colab-df-quickchart-complete:disabled:hover {\n",
              "    background-color: var(--disabled-bg-color);\n",
              "    fill: var(--disabled-fill-color);\n",
              "    box-shadow: none;\n",
              "  }\n",
              "\n",
              "  .colab-df-spinner {\n",
              "    border: 2px solid var(--fill-color);\n",
              "    border-color: transparent;\n",
              "    border-bottom-color: var(--fill-color);\n",
              "    animation:\n",
              "      spin 1s steps(1) infinite;\n",
              "  }\n",
              "\n",
              "  @keyframes spin {\n",
              "    0% {\n",
              "      border-color: transparent;\n",
              "      border-bottom-color: var(--fill-color);\n",
              "      border-left-color: var(--fill-color);\n",
              "    }\n",
              "    20% {\n",
              "      border-color: transparent;\n",
              "      border-left-color: var(--fill-color);\n",
              "      border-top-color: var(--fill-color);\n",
              "    }\n",
              "    30% {\n",
              "      border-color: transparent;\n",
              "      border-left-color: var(--fill-color);\n",
              "      border-top-color: var(--fill-color);\n",
              "      border-right-color: var(--fill-color);\n",
              "    }\n",
              "    40% {\n",
              "      border-color: transparent;\n",
              "      border-right-color: var(--fill-color);\n",
              "      border-top-color: var(--fill-color);\n",
              "    }\n",
              "    60% {\n",
              "      border-color: transparent;\n",
              "      border-right-color: var(--fill-color);\n",
              "    }\n",
              "    80% {\n",
              "      border-color: transparent;\n",
              "      border-right-color: var(--fill-color);\n",
              "      border-bottom-color: var(--fill-color);\n",
              "    }\n",
              "    90% {\n",
              "      border-color: transparent;\n",
              "      border-bottom-color: var(--fill-color);\n",
              "    }\n",
              "  }\n",
              "</style>\n",
              "\n",
              "  <script>\n",
              "    async function quickchart(key) {\n",
              "      const quickchartButtonEl =\n",
              "        document.querySelector('#' + key + ' button');\n",
              "      quickchartButtonEl.disabled = true;  // To prevent multiple clicks.\n",
              "      quickchartButtonEl.classList.add('colab-df-spinner');\n",
              "      try {\n",
              "        const charts = await google.colab.kernel.invokeFunction(\n",
              "            'suggestCharts', [key], {});\n",
              "      } catch (error) {\n",
              "        console.error('Error during call to suggestCharts:', error);\n",
              "      }\n",
              "      quickchartButtonEl.classList.remove('colab-df-spinner');\n",
              "      quickchartButtonEl.classList.add('colab-df-quickchart-complete');\n",
              "    }\n",
              "    (() => {\n",
              "      let quickchartButtonEl =\n",
              "        document.querySelector('#df-f468dd2b-9ea3-4e06-9ae2-7b151578dbbf button');\n",
              "      quickchartButtonEl.style.display =\n",
              "        google.colab.kernel.accessAllowed ? 'block' : 'none';\n",
              "    })();\n",
              "  </script>\n",
              "</div>\n",
              "\n",
              "    </div>\n",
              "  </div>\n"
            ],
            "application/vnd.google.colaboratory.intrinsic+json": {
              "type": "dataframe",
              "variable_name": "df",
              "summary": "{\n  \"name\": \"df\",\n  \"rows\": 90,\n  \"fields\": [\n    {\n      \"column\": \"Drug_Formulation\",\n      \"properties\": {\n        \"dtype\": \"category\",\n        \"num_unique_values\": 3,\n        \"samples\": [\n          \"A\",\n          \"B\",\n          \"C\"\n        ],\n        \"semantic_type\": \"\",\n        \"description\": \"\"\n      }\n    },\n    {\n      \"column\": \"Effectiveness\",\n      \"properties\": {\n        \"dtype\": \"number\",\n        \"std\": 6.503041283513259,\n        \"min\": 92.42576387657067,\n        \"max\": 120.61078098506317,\n        \"num_unique_values\": 90,\n        \"samples\": [\n          116.57329283336755,\n          105.41525621587638,\n          108.16959511159006\n        ],\n        \"semantic_type\": \"\",\n        \"description\": \"\"\n      }\n    }\n  ]\n}"
            }
          },
          "metadata": {},
          "execution_count": 8
        }
      ]
    },
    {
      "cell_type": "code",
      "source": [
        "# Perform Anderson-Darling test for normality on each drug formulation\n",
        "for drug, data in zip(['A', 'B', 'C'], [data_a, data_b, data_c]):\n",
        "    ad_statistic, ad_critical_values, ad_significance_levels = anderson(data, dist='norm')\n",
        "    print(f\"\\nAnderson-Darling test for normality - Drug Formulation {drug}:\")\n",
        "    print(f\"Test Statistic: {ad_statistic}\")\n",
        "    print(f\"Critical Values: {ad_critical_values}\")\n",
        "    print(f\"Significance Levels: {ad_significance_levels}\")"
      ],
      "metadata": {
        "colab": {
          "base_uri": "https://localhost:8080/"
        },
        "id": "XSoDeIFrx41K",
        "outputId": "a5856364-dec1-4588-c3aa-2d9622b50264"
      },
      "execution_count": 9,
      "outputs": [
        {
          "output_type": "stream",
          "name": "stdout",
          "text": [
            "\n",
            "Anderson-Darling test for normality - Drug Formulation A:\n",
            "Test Statistic: 0.9613437704665877\n",
            "Critical Values: [0.521 0.593 0.712 0.83  0.988]\n",
            "Significance Levels: [15.  10.   5.   2.5  1. ]\n",
            "\n",
            "Anderson-Darling test for normality - Drug Formulation B:\n",
            "Test Statistic: 0.28982412746400854\n",
            "Critical Values: [0.521 0.593 0.712 0.83  0.988]\n",
            "Significance Levels: [15.  10.   5.   2.5  1. ]\n",
            "\n",
            "Anderson-Darling test for normality - Drug Formulation C:\n",
            "Test Statistic: 0.2437592237936741\n",
            "Critical Values: [0.521 0.593 0.712 0.83  0.988]\n",
            "Significance Levels: [15.  10.   5.   2.5  1. ]\n"
          ]
        }
      ]
    },
    {
      "cell_type": "markdown",
      "source": [
        "**Analysis Insights:** For Drug Formulation A, the Anderson-Darling test indicates moderate agreement with a normal distribution (test statistic = 0.961), not significantly different at conventional significance levels.\n",
        "Drug Formulations B and C show strong agreement with normal distribution (test statistics = 0.290 and 0.244 respectively), also not significantly different at conventional significance levels.\n",
        "These results suggest that the assumption of normality holds for all drug formulations, supporting further analyses such as ANOVA."
      ],
      "metadata": {
        "id": "6JD6Hm9L8A8y"
      }
    },
    {
      "cell_type": "code",
      "source": [
        "# Plot histograms for each drug formulation\n",
        "plt.figure(figsize=(10, 6))\n",
        "sns.histplot(data_a, kde=True, color='skyblue', label='Drug A')\n",
        "sns.histplot(data_b, kde=True, color='salmon', label='Drug B')\n",
        "sns.histplot(data_c, kde=True, color='green', label='Drug C')\n",
        "plt.title('Distribution of Effectiveness for Three Drug Formulations')\n",
        "plt.xlabel('Effectiveness')\n",
        "plt.ylabel('Frequency')\n",
        "plt.legend()\n",
        "plt.show()"
      ],
      "metadata": {
        "colab": {
          "base_uri": "https://localhost:8080/",
          "height": 564
        },
        "id": "QSnINgty8_vf",
        "outputId": "025d873c-c797-4ef8-e5b3-fa51f116d209"
      },
      "execution_count": 14,
      "outputs": [
        {
          "output_type": "display_data",
          "data": {
            "text/plain": [
              "<Figure size 1000x600 with 1 Axes>"
            ],
            "image/png": "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\n"
          },
          "metadata": {}
        }
      ]
    },
    {
      "cell_type": "markdown",
      "source": [
        "**Analysis Insights:** Each histogram exhibits a different shape, indicating variations in the effectiveness distribution among the three drug formulations."
      ],
      "metadata": {
        "id": "WowzXSeI-CED"
      }
    },
    {
      "cell_type": "markdown",
      "source": [
        "**Note:**\n",
        "\n",
        "Null Hypothesis (H0): there is no significant difference in the mean effectiveness of the three drug formulations in reducing blood pressure\n",
        "\n",
        "Alternative Hypothesis (Ha): there is a significant difference in the mean effectiveness of at least one pair of drug formulations in reducing blood pressure."
      ],
      "metadata": {
        "id": "S1fDtsU7-o2w"
      }
    },
    {
      "cell_type": "code",
      "source": [
        "# Perform one-way ANOVA\n",
        "f_statistic, p_value = f_oneway(data_a, data_b, data_c)\n",
        "\n",
        "print(\"\\nResults of one-way ANOVA:\")\n",
        "print(\"F-statistic:\", f_statistic)\n",
        "print(\"p-value:\", p_value)"
      ],
      "metadata": {
        "colab": {
          "base_uri": "https://localhost:8080/"
        },
        "id": "Bjb-R3fwx80v",
        "outputId": "74b1c39e-02e1-40f9-d98f-3cfbc58489bf"
      },
      "execution_count": 11,
      "outputs": [
        {
          "output_type": "stream",
          "name": "stdout",
          "text": [
            "\n",
            "Results of one-way ANOVA:\n",
            "F-statistic: 20.526181582770135\n",
            "p-value: 4.985709744492225e-08\n"
          ]
        }
      ]
    },
    {
      "cell_type": "markdown",
      "source": [
        "**Analysis Insights:** Since the p-value is extremely small (p-value < 0.05), we have to reject the null hypothesis. Therefore, we can conclude that there is a statistically significant difference in the mean effectiveness of the three drug formulations in reducing blood pressure.\n"
      ],
      "metadata": {
        "id": "RLCAFa_k-0wQ"
      }
    }
  ]
}
